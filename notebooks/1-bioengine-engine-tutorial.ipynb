{
 "cells": [
  {
   "cell_type": "markdown",
   "metadata": {},
   "source": [
    "# Running deep learning models with BioEngine\n",
    "\n",
    "This tutorial covers 3 models:\n",
    " * Inception model for single cell protein localization classification (by Bestfitting in the HPA single cell classification competition 2021)\n",
    " * CellPose (C Stringer et. al 2021)\n",
    " * Stardist (Weigert et. al 2020\n",
    " \n",
    "Note: Please be aware that the data will be sent to a remote server (https://ai.imjoy.io/triton) running by the ImJoy team, the service is for evaluation purpose only and it is subject to change without notice. In the near future we will release the deployment toolkit so you can also run your own server easily."
   ]
  },
  {
   "cell_type": "code",
   "execution_count": 1,
   "metadata": {},
   "outputs": [
    {
     "name": "stdout",
     "output_type": "stream",
     "text": [
      "Requirement already satisfied: imjoy_rpc in /home/jeremy/venvs/bioimageio/lib/python3.11/site-packages (0.5.44)\n",
      "Requirement already satisfied: kaibu-utils in /home/jeremy/venvs/bioimageio/lib/python3.11/site-packages (0.1.12)\n",
      "Requirement already satisfied: msgpack>=1.0.2 in /home/jeremy/venvs/bioimageio/lib/python3.11/site-packages (from imjoy_rpc) (1.0.7)\n",
      "Requirement already satisfied: shortuuid>=1.0.8 in /home/jeremy/venvs/bioimageio/lib/python3.11/site-packages (from imjoy_rpc) (1.0.11)\n",
      "Requirement already satisfied: websockets in /home/jeremy/venvs/bioimageio/lib/python3.11/site-packages (from imjoy_rpc) (11.0.3)\n",
      "Requirement already satisfied: Pillow in /home/jeremy/venvs/bioimageio/lib/python3.11/site-packages (from kaibu-utils) (10.1.0)\n",
      "Requirement already satisfied: geojson in /home/jeremy/venvs/bioimageio/lib/python3.11/site-packages (from kaibu-utils) (3.0.1)\n",
      "Requirement already satisfied: scikit-image in /home/jeremy/venvs/bioimageio/lib/python3.11/site-packages (from kaibu-utils) (0.22.0)\n",
      "Requirement already satisfied: requests in /home/jeremy/venvs/bioimageio/lib/python3.11/site-packages (from kaibu-utils) (2.31.0)\n",
      "Requirement already satisfied: charset-normalizer<4,>=2 in /home/jeremy/venvs/bioimageio/lib/python3.11/site-packages (from requests->kaibu-utils) (3.3.0)\n",
      "Requirement already satisfied: idna<4,>=2.5 in /home/jeremy/venvs/bioimageio/lib/python3.11/site-packages (from requests->kaibu-utils) (3.4)\n",
      "Requirement already satisfied: urllib3<3,>=1.21.1 in /home/jeremy/venvs/bioimageio/lib/python3.11/site-packages (from requests->kaibu-utils) (1.26.17)\n",
      "Requirement already satisfied: certifi>=2017.4.17 in /home/jeremy/venvs/bioimageio/lib/python3.11/site-packages (from requests->kaibu-utils) (2023.7.22)\n",
      "Requirement already satisfied: numpy>=1.22 in /home/jeremy/venvs/bioimageio/lib/python3.11/site-packages (from scikit-image->kaibu-utils) (1.26.0)\n",
      "Requirement already satisfied: scipy>=1.8 in /home/jeremy/venvs/bioimageio/lib/python3.11/site-packages (from scikit-image->kaibu-utils) (1.11.3)\n",
      "Requirement already satisfied: networkx>=2.8 in /home/jeremy/venvs/bioimageio/lib/python3.11/site-packages (from scikit-image->kaibu-utils) (3.1)\n",
      "Requirement already satisfied: imageio>=2.27 in /home/jeremy/venvs/bioimageio/lib/python3.11/site-packages (from scikit-image->kaibu-utils) (2.31.5)\n",
      "Requirement already satisfied: tifffile>=2022.8.12 in /home/jeremy/venvs/bioimageio/lib/python3.11/site-packages (from scikit-image->kaibu-utils) (2023.9.26)\n",
      "Requirement already satisfied: packaging>=21 in /home/jeremy/venvs/bioimageio/lib/python3.11/site-packages (from scikit-image->kaibu-utils) (23.2)\n",
      "Requirement already satisfied: lazy_loader>=0.3 in /home/jeremy/venvs/bioimageio/lib/python3.11/site-packages (from scikit-image->kaibu-utils) (0.3)\n"
     ]
    }
   ],
   "source": [
    "try:\n",
    "    # For pyodide in the browser\n",
    "    import micropip\n",
    "    await micropip.install(['imjoy_rpc', 'kaibu-utils'])\n",
    "except ImportError:\n",
    "    # For native python with pip\n",
    "    import subprocess\n",
    "    subprocess.call(['pip', 'install', 'imjoy_rpc', 'kaibu-utils'])\n",
    "\n",
    "import io\n",
    "from PIL import Image\n",
    "import matplotlib.pyplot as plt\n",
    "import numpy as np\n",
    "#from pyotritonclient import execute\n",
    "from imjoy_rpc.hypha import connect_to_server\n",
    "from kaibu_utils import fetch_image"
   ]
  },
  {
   "cell_type": "markdown",
   "metadata": {},
   "source": [
    "# Running CellPose cell segmentation model via the BioEngine\n",
    "\n",
    "## Download an example image"
   ]
  },
  {
   "cell_type": "code",
   "execution_count": 2,
   "metadata": {},
   "outputs": [
    {
     "ename": "UnidentifiedImageError",
     "evalue": "cannot identify image file <_io.BytesIO object at 0x7f5a301aff60>",
     "output_type": "error",
     "traceback": [
      "\u001b[0;31m---------------------------------------------------------------------------\u001b[0m",
      "\u001b[0;31mUnidentifiedImageError\u001b[0m                    Traceback (most recent call last)",
      "Cell \u001b[0;32mIn[2], line 1\u001b[0m\n\u001b[0;32m----> 1\u001b[0m image \u001b[38;5;241m=\u001b[39m \u001b[38;5;28;01mawait\u001b[39;00m fetch_image(\u001b[38;5;124m'\u001b[39m\u001b[38;5;124mhttps://zenodo.org/api/records/5906839/files/sample_input_0.tif/content\u001b[39m\u001b[38;5;124m'\u001b[39m)\n\u001b[1;32m      2\u001b[0m image \u001b[38;5;241m=\u001b[39m image\u001b[38;5;241m.\u001b[39mastype(\u001b[38;5;124m'\u001b[39m\u001b[38;5;124mfloat32\u001b[39m\u001b[38;5;124m'\u001b[39m)\n\u001b[1;32m      3\u001b[0m \u001b[38;5;28mprint\u001b[39m(\u001b[38;5;124m\"\u001b[39m\u001b[38;5;124mexample image downloaded: \u001b[39m\u001b[38;5;124m\"\u001b[39m, image\u001b[38;5;241m.\u001b[39mshape)\n",
      "File \u001b[0;32m~/venvs/bioimageio/lib/python3.11/site-packages/kaibu_utils/__init__.py:417\u001b[0m, in \u001b[0;36mfetch_image\u001b[0;34m(url, name, grayscale, transpose, size)\u001b[0m\n\u001b[1;32m    415\u001b[0m     buffer \u001b[38;5;241m=\u001b[39m io\u001b[38;5;241m.\u001b[39mBytesIO(response\u001b[38;5;241m.\u001b[39mcontent)\n\u001b[1;32m    416\u001b[0m buffer\u001b[38;5;241m.\u001b[39mname \u001b[38;5;241m=\u001b[39m name \u001b[38;5;129;01mor\u001b[39;00m url\u001b[38;5;241m.\u001b[39msplit(\u001b[38;5;124m\"\u001b[39m\u001b[38;5;124m?\u001b[39m\u001b[38;5;124m\"\u001b[39m)[\u001b[38;5;241m0\u001b[39m]\u001b[38;5;241m.\u001b[39msplit(\u001b[38;5;124m\"\u001b[39m\u001b[38;5;124m/\u001b[39m\u001b[38;5;124m\"\u001b[39m)[\u001b[38;5;241m1\u001b[39m]\n\u001b[0;32m--> 417\u001b[0m image \u001b[38;5;241m=\u001b[39m \u001b[43mImage\u001b[49m\u001b[38;5;241;43m.\u001b[39;49m\u001b[43mopen\u001b[49m\u001b[43m(\u001b[49m\u001b[43mbuffer\u001b[49m\u001b[43m)\u001b[49m\n\u001b[1;32m    418\u001b[0m \u001b[38;5;28;01mif\u001b[39;00m grayscale:\n\u001b[1;32m    419\u001b[0m     image \u001b[38;5;241m=\u001b[39m image\u001b[38;5;241m.\u001b[39mconvert(\u001b[38;5;124m\"\u001b[39m\u001b[38;5;124mL\u001b[39m\u001b[38;5;124m\"\u001b[39m)\n",
      "File \u001b[0;32m~/venvs/bioimageio/lib/python3.11/site-packages/PIL/Image.py:3305\u001b[0m, in \u001b[0;36mopen\u001b[0;34m(fp, mode, formats)\u001b[0m\n\u001b[1;32m   3303\u001b[0m     warnings\u001b[38;5;241m.\u001b[39mwarn(message)\n\u001b[1;32m   3304\u001b[0m msg \u001b[38;5;241m=\u001b[39m \u001b[38;5;124m\"\u001b[39m\u001b[38;5;124mcannot identify image file \u001b[39m\u001b[38;5;132;01m%r\u001b[39;00m\u001b[38;5;124m\"\u001b[39m \u001b[38;5;241m%\u001b[39m (filename \u001b[38;5;28;01mif\u001b[39;00m filename \u001b[38;5;28;01melse\u001b[39;00m fp)\n\u001b[0;32m-> 3305\u001b[0m \u001b[38;5;28;01mraise\u001b[39;00m UnidentifiedImageError(msg)\n",
      "\u001b[0;31mUnidentifiedImageError\u001b[0m: cannot identify image file <_io.BytesIO object at 0x7f5a301aff60>"
     ]
    }
   ],
   "source": [
    "image = await fetch_image('https://zenodo.org/api/records/5906839/files/sample_input_0.tif/content')\n",
    "image = image.astype('float32')\n",
    "print(\"example image downloaded: \", image.shape)\n",
    "plt.imshow(image)\n",
    "plt.show()"
   ]
  },
  {
   "cell_type": "markdown",
   "metadata": {},
   "source": [
    "## Connect to theserver"
   ]
  },
  {
   "cell_type": "code",
   "execution_count": null,
   "metadata": {
    "tags": []
   },
   "outputs": [],
   "source": [
    "server = await connect_to_server(\n",
    "        {\"server_url\": \"https://hypha.bioimage.io/\", \"method_timeout\": 3000}\n",
    "    )\n",
    "triton = await server.get_service(\"triton-client\")"
   ]
  },
  {
   "cell_type": "markdown",
   "metadata": {},
   "source": [
    "## Make prediction with the BioEngine"
   ]
  },
  {
   "cell_type": "code",
   "execution_count": null,
   "metadata": {},
   "outputs": [],
   "source": [
    "ret = await triton.execute(inputs=[{\"inputs\":[[image[...,None]]], \"model_id\": \"creative-panda\"}],\n",
    "                           model_name=\"bioengine-model-runner\",\n",
    "                           serialization=\"imjoy\",\n",
    "                          )\n",
    "result = ret[\"result\"]\n",
    "mask = result['outputs'][0]\n",
    "print('prediction: ', mask.shape)"
   ]
  },
  {
   "cell_type": "markdown",
   "metadata": {},
   "source": [
    "## Display the segmentation result"
   ]
  },
  {
   "cell_type": "code",
   "execution_count": null,
   "metadata": {},
   "outputs": [],
   "source": [
    "# display the output\n",
    "fig, (ax1, ax2) = plt.subplots(1, 2, figsize=(8, 4))\n",
    "ax1.imshow(image.astype('uint8'))\n",
    "ax1.set_title('input image')\n",
    "ax2.imshow(mask[0])\n",
    "ax2.set_title('predicted mask')\n",
    "plt.show()"
   ]
  },
  {
   "cell_type": "markdown",
   "metadata": {
    "tags": []
   },
   "source": [
    "# Running Stardist nuclei segmentation via the BioEngine"
   ]
  },
  {
   "cell_type": "code",
   "execution_count": null,
   "metadata": {},
   "outputs": [],
   "source": [
    "# obtain the model config\n",
    "image = await fetch_image('https://raw.githubusercontent.com/stardist/stardist/3451a4f9e7b6dcef91b09635cc8fa78939fb0d29/stardist/data/images/img2d.tif', grayscale=True)\n",
    "image = image.astype('uint16')\n",
    "param = {'diameter': 30}\n",
    "\n",
    "# run inference\n",
    "ret = await triton.execute(inputs=[{\n",
    "                               \"inputs\":[[image[...,None]]], \n",
    "                               \"model_id\": \"fearless-crab\"}], \n",
    "                           model_name=\"bioengine-model-runner\",\n",
    "                           serialization=\"imjoy\",\n",
    "                          )\n",
    "result = ret[\"result\"]\n",
    "mask = result['outputs'][0]\n",
    "print('prediction: ', mask.shape)\n",
    "print('Note: use the stardist library to properly post-process this output! https://github.com/stardist/stardist')\n",
    "\n",
    "# display the output\n",
    "fig, (ax1, ax2) = plt.subplots(1, 2, figsize=(8, 4))\n",
    "ax1.imshow(image)\n",
    "ax1.set_title('input image')\n",
    "ax2.imshow(mask[0, :, :, 0])\n",
    "ax2.set_title('predicted mask')\n",
    "plt.show()"
   ]
  },
  {
   "cell_type": "markdown",
   "metadata": {},
   "source": [
    "# Running HPA single-cell classification model via the BioEngine\n",
    "\n",
    "\n",
    "## Preparation"
   ]
  },
  {
   "cell_type": "code",
   "execution_count": null,
   "metadata": {},
   "outputs": [],
   "source": [
    "LABELS = {\n",
    "  0: 'Nucleoplasm',\n",
    "  1: 'Nuclear membrane',\n",
    "  2: 'Nucleoli',\n",
    "  3: 'Nucleoli fibrillar center',\n",
    "  4: 'Nuclear speckles',\n",
    "  5: 'Nuclear bodies',\n",
    "  6: 'Endoplasmic reticulum',\n",
    "  7: 'Golgi apparatus',\n",
    "  8: 'Intermediate filaments',\n",
    "  9: 'Actin filaments',\n",
    "  10: 'Microtubules',\n",
    "  11: 'Mitotic spindle',\n",
    "  12: 'Centrosome',\n",
    "  13: 'Plasma membrane',\n",
    "  14: 'Mitochondria',\n",
    "  15: 'Aggresome',\n",
    "  16: 'Cytosol',\n",
    "  17: 'Vesicles and punctate cytosolic patterns',\n",
    "  18: 'Negative',\n",
    "}\n",
    "\n",
    "COLORS =  [\"red\", \"green\", \"blue\", \"yellow\"]\n",
    "\n",
    "async def fetch_hpa_image(image_id, size=None):\n",
    "    crops = []\n",
    "    for color in COLORS:\n",
    "        image = await fetch_image(f'https://images.proteinatlas.org/{image_id}_{color}.jpg', grayscale=True, size=size)\n",
    "        crops.append(image)\n",
    "    image = np.stack(crops, axis=0)\n",
    "    # assert image.shape == (4, 128, 128)\n",
    "    return image"
   ]
  },
  {
   "cell_type": "markdown",
   "metadata": {},
   "source": [
    "## Fetch an image from HPA website by its ID"
   ]
  },
  {
   "cell_type": "code",
   "execution_count": null,
   "metadata": {},
   "outputs": [],
   "source": [
    "image = await fetch_hpa_image('115/672_E2_1', size=(512, 512))\n",
    "# crop the image to a single cell\n",
    "# image = image[:, 60:188, 120:248]\n",
    "\n",
    "# make sure the image size is 128x128\n",
    "# assert image.shape == (4, 128, 128), \"please make sure the image size is 128x128\"\n",
    "# display the image\n",
    "plt.imshow(image.transpose(1,2,0)[:,:,:3])\n",
    "plt.show()"
   ]
  },
  {
   "cell_type": "code",
   "execution_count": null,
   "metadata": {},
   "outputs": [],
   "source": [
    "print(image.shape)\n",
    "image = image.transpose(1,2,0)\n",
    "print(image.shape)\n"
   ]
  },
  {
   "cell_type": "markdown",
   "metadata": {},
   "source": [
    "## Making prediction with the BioEngine"
   ]
  },
  {
   "cell_type": "code",
   "execution_count": null,
   "metadata": {},
   "outputs": [],
   "source": [
    "input_data = [image]\n",
    "print(np.shape(input_data))\n",
    "\n",
    "ret = await triton.execute(inputs=[{\"inputs\":[input_data], \"model_id\": \"loyal-parrot\"}],\n",
    "                           model_name=\"bioengine-model-runner\",\n",
    "                           serialization=\"imjoy\",\n",
    "                          )\n",
    "result = ret[\"result\"]\n",
    "print(result)\n",
    "mask = result['output'][0]\n",
    "print('prediction: ', mask.shape)\n",
    "\n",
    "classes = results['classes']\n",
    "pred = [(LABELS[i], prob) for i, prob in enumerate(classes.tolist()) if prob>0.5]\n",
    "\n",
    "print(f'Prediction: {pred}')"
   ]
  },
  {
   "cell_type": "code",
   "execution_count": null,
   "metadata": {},
   "outputs": [],
   "source": []
  }
 ],
 "metadata": {
  "kernelspec": {
   "display_name": "Python 3 (ipykernel)",
   "language": "python",
   "name": "python3"
  },
  "language_info": {
   "codemirror_mode": {
    "name": "ipython",
    "version": 3
   },
   "file_extension": ".py",
   "mimetype": "text/x-python",
   "name": "python",
   "nbconvert_exporter": "python",
   "pygments_lexer": "ipython3",
   "version": "3.11.5"
  }
 },
 "nbformat": 4,
 "nbformat_minor": 4
}
